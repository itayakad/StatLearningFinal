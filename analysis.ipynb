{
 "cells": [
  {
   "cell_type": "code",
   "execution_count": 4,
   "id": "62f5ee97",
   "metadata": {},
   "outputs": [],
   "source": [
    "import pandas as pd\n",
    "import plotly.express as px\n",
    "from dotenv import load_dotenv\n",
    "from nltk.sentiment.vader import SentimentIntensityAnalyzer\n",
    "import nltk"
   ]
  },
  {
   "cell_type": "code",
   "execution_count": 5,
   "id": "1391d009",
   "metadata": {},
   "outputs": [
    {
     "name": "stderr",
     "output_type": "stream",
     "text": [
      "[nltk_data] Downloading package vader_lexicon to\n",
      "[nltk_data]     /Users/niroren/nltk_data...\n",
      "[nltk_data]   Package vader_lexicon is already up-to-date!\n"
     ]
    },
    {
     "data": {
      "text/plain": [
       "False"
      ]
     },
     "execution_count": 5,
     "metadata": {},
     "output_type": "execute_result"
    }
   ],
   "source": [
    "nltk.download('vader_lexicon')\n",
    "sid = SentimentIntensityAnalyzer()\n",
    "\n",
    "# Load Alpaca credentials\n",
    "load_dotenv()"
   ]
  },
  {
   "cell_type": "code",
   "execution_count": 6,
   "id": "83ce356c",
   "metadata": {},
   "outputs": [],
   "source": [
    "def score_sentiment(news_df):\n",
    "    print(\"s\")\n",
    "    news_df[\"sentiment\"] = news_df[\"headline\"].apply(lambda x: sid.polarity_scores(x)[\"compound\"])\n",
    "    print(\"s1\")\n",
    "    return news_df"
   ]
  },
  {
   "cell_type": "code",
   "execution_count": 18,
   "id": "351d5601",
   "metadata": {},
   "outputs": [],
   "source": [
    "clean = pd.read_csv(\"cleaned_news.csv\").drop(columns=['Unnamed: 0'])"
   ]
  },
  {
   "cell_type": "code",
   "execution_count": 19,
   "id": "e12424a6",
   "metadata": {},
   "outputs": [
    {
     "name": "stdout",
     "output_type": "stream",
     "text": [
      "s\n",
      "s1\n"
     ]
    }
   ],
   "source": [
    "news_df = score_sentiment(clean)"
   ]
  },
  {
   "cell_type": "code",
   "execution_count": null,
   "id": "03c708c4",
   "metadata": {},
   "outputs": [],
   "source": [
    "news_df.created_at = pd.to_datetime(news_df.created_at)\n",
    "news_df['date'] = news_df.created_at.dt.date"
   ]
  },
  {
   "cell_type": "code",
   "execution_count": 35,
   "id": "80c2505c",
   "metadata": {},
   "outputs": [],
   "source": [
    "ticker_news = {}\n",
    "daily_sentiment = {}\n",
    "for symbol in ['AAPL','GOOGL','NVDIA']:\n",
    "    ticker_news[symbol] = news_df[news_df['symbols'].apply(lambda x: f\"'{symbol}'\" in x)]\n",
    "    daily_sentiment[symbol] = ticker_news[symbol].groupby('date')['sentiment'].mean()"
   ]
  },
  {
   "cell_type": "code",
   "execution_count": 61,
   "id": "fc2698f7",
   "metadata": {},
   "outputs": [
    {
     "data": {
      "text/plain": [
       "sentiment\n",
       " 0.000000    58\n",
       " 0.202300     8\n",
       " 0.296000     5\n",
       " 0.250000     4\n",
       " 0.226300     4\n",
       "             ..\n",
       " 0.258900     1\n",
       " 0.010450     1\n",
       "-0.126250     1\n",
       "-0.046873     1\n",
       "-0.238500     1\n",
       "Name: count, Length: 974, dtype: int64"
      ]
     },
     "execution_count": 61,
     "metadata": {},
     "output_type": "execute_result"
    }
   ],
   "source": [
    "daily_sentiment['GOOGL'].value_counts()"
   ]
  },
  {
   "cell_type": "code",
   "execution_count": 66,
   "id": "2f6c4630",
   "metadata": {},
   "outputs": [],
   "source": [
    "df1 = pd.read_csv('data/Download Data - STOCK_US_XNAS_GOOGL.csv')\n",
    "df2 = pd.read_csv('data/Download Data - STOCK_US_XNAS_GOOGL-2.csv')\n",
    "df3 = pd.read_csv('data/Download Data - STOCK_US_XNAS_GOOGL-3.csv')\n",
    "df4 = pd.read_csv('data/Download Data - STOCK_US_XNAS_GOOGL-4.csv')\n",
    "\n",
    "df  = pd.concat([df1,df2,df3,df4])"
   ]
  },
  {
   "cell_type": "code",
   "execution_count": 67,
   "id": "0a16f3a9",
   "metadata": {},
   "outputs": [],
   "source": [
    "df['Date'] = pd.to_datetime(df['Date'], format=\"%m/%d/%Y\")\n",
    "df.sort_values('Date',ascending=True)\n",
    "df.Volume = df.Volume.str.replace(',','').astype(int)"
   ]
  },
  {
   "cell_type": "code",
   "execution_count": null,
   "id": "35205512",
   "metadata": {},
   "outputs": [],
   "source": []
  },
  {
   "cell_type": "code",
   "execution_count": 73,
   "id": "68a7dc88",
   "metadata": {},
   "outputs": [
    {
     "data": {
      "text/plain": [
       "0    2022-12-30\n",
       "1    2022-12-29\n",
       "2    2022-12-28\n",
       "3    2022-12-27\n",
       "4    2022-12-23\n",
       "        ...    \n",
       "77   2025-01-08\n",
       "78   2025-01-07\n",
       "79   2025-01-06\n",
       "80   2025-01-03\n",
       "81   2025-01-02\n",
       "Name: Date, Length: 835, dtype: datetime64[ns]"
      ]
     },
     "execution_count": 73,
     "metadata": {},
     "output_type": "execute_result"
    }
   ],
   "source": [
    "df.Date"
   ]
  },
  {
   "cell_type": "code",
   "execution_count": 74,
   "id": "d29798f3",
   "metadata": {},
   "outputs": [],
   "source": [
    "df.to_csv('GOOGL.csv',index=False)"
   ]
  },
  {
   "cell_type": "code",
   "execution_count": null,
   "id": "e6ad0b46",
   "metadata": {},
   "outputs": [],
   "source": [
    "\n"
   ]
  }
 ],
 "metadata": {
  "kernelspec": {
   "display_name": "Python 3",
   "language": "python",
   "name": "python3"
  },
  "language_info": {
   "codemirror_mode": {
    "name": "ipython",
    "version": 3
   },
   "file_extension": ".py",
   "mimetype": "text/x-python",
   "name": "python",
   "nbconvert_exporter": "python",
   "pygments_lexer": "ipython3",
   "version": "3.11.10"
  }
 },
 "nbformat": 4,
 "nbformat_minor": 5
}
