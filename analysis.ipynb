{
 "cells": [
  {
   "cell_type": "code",
   "execution_count": 69,
   "id": "62f5ee97",
   "metadata": {},
   "outputs": [],
   "source": [
    "import pandas as pd\n",
    "import plotly.express as px\n",
    "from dotenv import load_dotenv\n",
    "from nltk.sentiment.vader import SentimentIntensityAnalyzer\n",
    "import nltk\n",
    "import ta"
   ]
  },
  {
   "cell_type": "code",
   "execution_count": 2,
   "id": "1391d009",
   "metadata": {},
   "outputs": [
    {
     "name": "stderr",
     "output_type": "stream",
     "text": [
      "[nltk_data] Downloading package vader_lexicon to\n",
      "[nltk_data]     /Users/niroren/nltk_data...\n",
      "[nltk_data]   Package vader_lexicon is already up-to-date!\n"
     ]
    },
    {
     "data": {
      "text/plain": [
       "False"
      ]
     },
     "execution_count": 2,
     "metadata": {},
     "output_type": "execute_result"
    }
   ],
   "source": [
    "nltk.download('vader_lexicon')\n",
    "sid = SentimentIntensityAnalyzer()\n",
    "\n",
    "# Load Alpaca credentials\n",
    "load_dotenv()"
   ]
  },
  {
   "cell_type": "code",
   "execution_count": 59,
   "id": "83ce356c",
   "metadata": {},
   "outputs": [],
   "source": [
    "def score_sentiment(news_df):\n",
    "    news_df[\"sentiment\"] = news_df[\"headline\"].apply(lambda x: sid.polarity_scores(x)[\"compound\"])\n",
    "    print(\"done\")\n",
    "    return news_df"
   ]
  },
  {
   "cell_type": "code",
   "execution_count": 137,
   "id": "351d5601",
   "metadata": {},
   "outputs": [
    {
     "name": "stdout",
     "output_type": "stream",
     "text": [
      "done\n"
     ]
    }
   ],
   "source": [
    "clean = pd.read_csv(\"data/cleaned_news.csv\").drop(columns=['Unnamed: 0'])\n",
    "\n",
    "# add sentiments, and extract date\n",
    "news_df = score_sentiment(clean)\n",
    "news_df.created_at = pd.to_datetime(news_df.created_at)\n",
    "news_df['date'] = news_df.created_at.dt.date"
   ]
  },
  {
   "cell_type": "code",
   "execution_count": null,
   "id": "72e39d57",
   "metadata": {},
   "outputs": [],
   "source": []
  },
  {
   "cell_type": "code",
   "execution_count": 11,
   "id": "05c6db06",
   "metadata": {},
   "outputs": [],
   "source": [
    "tickers = ['AAPL','GOOGL']"
   ]
  },
  {
   "cell_type": "code",
   "execution_count": 138,
   "id": "80c2505c",
   "metadata": {},
   "outputs": [],
   "source": [
    "ticker_news = {}\n",
    "daily_sentiment = {}\n",
    "for symbol in tickers:\n",
    "    # extract news articles that have to do with the ticker\n",
    "    ticker_news[symbol] = news_df[news_df['symbols'].apply(lambda x: f\"'{symbol}'\" in x)]\n",
    "    \n",
    "    # calculate average sentiment per day\n",
    "    daily_sentiment[symbol] = ticker_news[symbol].groupby('date')['sentiment'].mean()\n"
   ]
  },
  {
   "cell_type": "code",
   "execution_count": 202,
   "id": "1bb75b16",
   "metadata": {},
   "outputs": [],
   "source": [
    "# merge sentiment, add other indicators\n",
    "\n",
    "price_dfs = {}\n",
    "for ticker in tickers:\n",
    "    price_dfs[ticker] = pd.read_csv(f'data/{ticker}.csv').set_index('Date')\n",
    "    price_dfs[ticker].index = pd.to_datetime(price_dfs[ticker].index,\n",
    "                                             format=\"%Y-%m-%d\"\n",
    "                                             )\n",
    "    price_dfs[ticker].sort_index(ascending=True)\n",
    "    price_dfs[ticker]['news_sentiment'] = daily_sentiment[ticker]\n",
    "    price_dfs[ticker]['return'] = price_dfs[ticker]['Close'].diff()\n",
    "    price_dfs[ticker]['fwd_return'] = price_dfs[ticker]['Close'].diff().shift(-1)\n",
    "\n",
    "    # EMA\n",
    "    price_dfs[ticker]['ema'] = ta.trend.ema_indicator(\n",
    "        price_dfs[ticker]['Close'], window=20)\n",
    "    \n",
    "    # RSI\n",
    "    price_dfs[ticker]['rsi_14'] = ta.momentum.rsi(price_dfs[ticker]['Close'], window=14)\n",
    "\n",
    "    # PVT\n",
    "    price_dfs[ticker]['pvt'] = ta.volume.volume_price_trend(price_dfs[ticker]['Close'], price_dfs[ticker]['Volume'])\n",
    "\n",
    "    # MACD\n",
    "    price_dfs[ticker]['macd'] = ta.trend.macd(price_dfs[ticker]['Close'])\n",
    "    price_dfs[ticker]['macd_signal'] = ta.trend.macd_signal(price_dfs[ticker]['Close'])\n",
    "    price_dfs[ticker]['macd_diff'] = ta.trend.macd_diff(price_dfs[ticker]['Close'])\n",
    "\n",
    "    price_dfs[ticker]['sma_20'] = ta.trend.sma_indicator(price_dfs[ticker]['Close'], window=20)\n",
    "    price_dfs[ticker]['williams_r'] = ta.momentum.williams_r(price_dfs[ticker]['High'], price_dfs[ticker]['Low'], price_dfs[ticker]['Close'], lbp=14)\n",
    "    price_dfs[ticker]['obv'] = ta.volume.on_balance_volume(price_dfs[ticker]['Close'], price_dfs[ticker]['Volume'])\n",
    "    price_dfs[ticker]['atr'] = ta.volatility.average_true_range(price_dfs[ticker]['High'], price_dfs[ticker]['Low'], price_dfs[ticker]['Close'], window=14)"
   ]
  },
  {
   "cell_type": "code",
   "execution_count": 204,
   "id": "8d95ac75",
   "metadata": {},
   "outputs": [],
   "source": [
    "import pandas as pd\n",
    "import numpy as np\n",
    "from xgboost import XGBRegressor\n",
    "from sklearn.model_selection import train_test_split\n",
    "from sklearn.metrics import mean_squared_error, r2_score\n"
   ]
  },
  {
   "cell_type": "code",
   "execution_count": 250,
   "id": "c7f7b1ee",
   "metadata": {},
   "outputs": [
    {
     "name": "stderr",
     "output_type": "stream",
     "text": [
      "/var/folders/tl/d5lq85h96f396hsw76f77lxc0000gn/T/ipykernel_34583/4294214595.py:17: SettingWithCopyWarning: \n",
      "A value is trying to be set on a copy of a slice from a DataFrame.\n",
      "Try using .loc[row_indexer,col_indexer] = value instead\n",
      "\n",
      "See the caveats in the documentation: https://pandas.pydata.org/pandas-docs/stable/user_guide/indexing.html#returning-a-view-versus-a-copy\n",
      "  X[\"Volume\"] = X[\"Volume\"] / 1e6\n",
      "/var/folders/tl/d5lq85h96f396hsw76f77lxc0000gn/T/ipykernel_34583/4294214595.py:18: SettingWithCopyWarning: \n",
      "A value is trying to be set on a copy of a slice from a DataFrame.\n",
      "Try using .loc[row_indexer,col_indexer] = value instead\n",
      "\n",
      "See the caveats in the documentation: https://pandas.pydata.org/pandas-docs/stable/user_guide/indexing.html#returning-a-view-versus-a-copy\n",
      "  X[\"pvt\"] = X[\"pvt\"] / 1e6\n",
      "/var/folders/tl/d5lq85h96f396hsw76f77lxc0000gn/T/ipykernel_34583/4294214595.py:17: SettingWithCopyWarning: \n",
      "A value is trying to be set on a copy of a slice from a DataFrame.\n",
      "Try using .loc[row_indexer,col_indexer] = value instead\n",
      "\n",
      "See the caveats in the documentation: https://pandas.pydata.org/pandas-docs/stable/user_guide/indexing.html#returning-a-view-versus-a-copy\n",
      "  X[\"Volume\"] = X[\"Volume\"] / 1e6\n",
      "/var/folders/tl/d5lq85h96f396hsw76f77lxc0000gn/T/ipykernel_34583/4294214595.py:18: SettingWithCopyWarning: \n",
      "A value is trying to be set on a copy of a slice from a DataFrame.\n",
      "Try using .loc[row_indexer,col_indexer] = value instead\n",
      "\n",
      "See the caveats in the documentation: https://pandas.pydata.org/pandas-docs/stable/user_guide/indexing.html#returning-a-view-versus-a-copy\n",
      "  X[\"pvt\"] = X[\"pvt\"] / 1e6\n"
     ]
    }
   ],
   "source": [
    "features = [\n",
    "    \"Open\", \"High\", \"Low\", \"Close\", \"Volume\", \"news_sentiment\", \"return\",\n",
    "    \"ema\", \"rsi_14\", \"pvt\", \"macd\", \"macd_signal\", \"macd_diff\"\n",
    "]\n",
    "target = \"fwd_return\"\n",
    "\n",
    "trading_results = {}\n",
    "\n",
    "for ticker in tickers:\n",
    "    df = price_dfs[ticker].copy()\n",
    "    df = df.dropna()\n",
    "\n",
    "    X = df[features]\n",
    "    y = df[target]\n",
    "\n",
    "    # scale volume and pvt \n",
    "    X[\"Volume\"] = X[\"Volume\"] / 1e6\n",
    "    X[\"pvt\"] = X[\"pvt\"] / 1e6\n",
    "\n",
    "    # test train, 20% test\n",
    "    split_idx = int(len(df) * 0.8)\n",
    "    X_train, X_test = X.iloc[:split_idx], X.iloc[split_idx:]\n",
    "    y_train, y_test = y.iloc[:split_idx], y.iloc[split_idx:]\n",
    "\n",
    "\n",
    "    # X_train, X_test = X[X.index < \"2025-01-01\"], X[X.index >= \"2025-01-01\"]\n",
    "    # y_train, y_test = y[y.index < \"2025-01-01\"], y[y.index >= \"2025-01-01\"]\n",
    "\n",
    "    model = XGBRegressor(\n",
    "    n_estimators=300,\n",
    "    learning_rate=0.05,\n",
    "    max_depth=4,\n",
    "    random_state=42\n",
    "    )\n",
    "\n",
    "    model.fit(X_train, y_train)\n",
    "\n",
    "    y_pred = model.predict(X_test)\n",
    "\n",
    "    results = pd.DataFrame(y_test)\n",
    "    results['pred'] = y_pred\n",
    "\n",
    "    results['actual_dir'] = results['fwd_return'].apply(np.sign)\n",
    "    results['pred_dir'] = results['pred'].apply(np.sign)\n",
    "\n",
    "\n",
    "    results['trade'] = results['pred'] * results['actual_dir']\n",
    "\n",
    "    trading_results[ticker] = results\n",
    "    "
   ]
  },
  {
   "cell_type": "code",
   "execution_count": 251,
   "id": "c47731e3",
   "metadata": {},
   "outputs": [
    {
     "name": "stdout",
     "output_type": "stream",
     "text": [
      "If trading based on the signal, the profit from 2024-01-02 to 2025-05-01 is\n",
      "{'AAPL': 32.31320140045136, 'GOOGL': 42.658582902513444}\n",
      "\n",
      "sum profit:\n",
      "74.9717843029648\n"
     ]
    }
   ],
   "source": [
    "profit = {}\n",
    "\n",
    "for ticker in tickers:\n",
    "    profit[ticker] = trading_results[ticker]['trade'].sum()\n",
    "\n",
    "print(\"If trading based on the signal, the profit from\",trading_results[ticker].index.min().date(),'to',trading_results[ticker].index.max().date(),'is')\n",
    "print(profit)\n",
    "\n",
    "\n",
    "print(\"\\nsum profit:\")\n",
    "print(sum(profit.values()))"
   ]
  }
 ],
 "metadata": {
  "kernelspec": {
   "display_name": "Python 3",
   "language": "python",
   "name": "python3"
  },
  "language_info": {
   "codemirror_mode": {
    "name": "ipython",
    "version": 3
   },
   "file_extension": ".py",
   "mimetype": "text/x-python",
   "name": "python",
   "nbconvert_exporter": "python",
   "pygments_lexer": "ipython3",
   "version": "3.11.10"
  }
 },
 "nbformat": 4,
 "nbformat_minor": 5
}
