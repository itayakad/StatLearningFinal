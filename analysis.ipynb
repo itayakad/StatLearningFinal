{
 "cells": [
  {
   "cell_type": "code",
   "execution_count": 69,
   "id": "62f5ee97",
   "metadata": {},
   "outputs": [],
   "source": [
    "import pandas as pd\n",
    "import plotly.express as px\n",
    "from dotenv import load_dotenv\n",
    "from nltk.sentiment.vader import SentimentIntensityAnalyzer\n",
    "import nltk\n",
    "import ta"
   ]
  },
  {
   "cell_type": "code",
   "execution_count": 2,
   "id": "1391d009",
   "metadata": {},
   "outputs": [
    {
     "name": "stderr",
     "output_type": "stream",
     "text": [
      "[nltk_data] Downloading package vader_lexicon to\n",
      "[nltk_data]     /Users/niroren/nltk_data...\n",
      "[nltk_data]   Package vader_lexicon is already up-to-date!\n"
     ]
    },
    {
     "data": {
      "text/plain": [
       "False"
      ]
     },
     "execution_count": 2,
     "metadata": {},
     "output_type": "execute_result"
    }
   ],
   "source": [
    "nltk.download('vader_lexicon')\n",
    "sid = SentimentIntensityAnalyzer()\n",
    "\n",
    "# Load Alpaca credentials\n",
    "load_dotenv()"
   ]
  },
  {
   "cell_type": "code",
   "execution_count": 59,
   "id": "83ce356c",
   "metadata": {},
   "outputs": [],
   "source": [
    "def score_sentiment(news_df):\n",
    "    news_df[\"sentiment\"] = news_df[\"headline\"].apply(lambda x: sid.polarity_scores(x)[\"compound\"])\n",
    "    print(\"done\")\n",
    "    return news_df"
   ]
  },
  {
   "cell_type": "code",
   "execution_count": 137,
   "id": "351d5601",
   "metadata": {},
   "outputs": [
    {
     "name": "stdout",
     "output_type": "stream",
     "text": [
      "done\n"
     ]
    }
   ],
   "source": [
    "clean = pd.read_csv(\"data/cleaned_news.csv\").drop(columns=['Unnamed: 0'])\n",
    "\n",
    "# add sentiments, and extract date\n",
    "news_df = score_sentiment(clean)\n",
    "news_df.created_at = pd.to_datetime(news_df.created_at)\n",
    "news_df['date'] = news_df.created_at.dt.date"
   ]
  },
  {
   "cell_type": "code",
   "execution_count": null,
   "id": "72e39d57",
   "metadata": {},
   "outputs": [],
   "source": []
  },
  {
   "cell_type": "code",
   "execution_count": 11,
   "id": "05c6db06",
   "metadata": {},
   "outputs": [],
   "source": [
    "tickers = ['AAPL','GOOGL']"
   ]
  },
  {
   "cell_type": "code",
   "execution_count": 138,
   "id": "80c2505c",
   "metadata": {},
   "outputs": [],
   "source": [
    "ticker_news = {}\n",
    "daily_sentiment = {}\n",
    "for symbol in tickers:\n",
    "    # extract news articles that have to do with the ticker\n",
    "    ticker_news[symbol] = news_df[news_df['symbols'].apply(lambda x: f\"'{symbol}'\" in x)]\n",
    "    \n",
    "    # calculate average sentiment per day\n",
    "    daily_sentiment[symbol] = ticker_news[symbol].groupby('date')['sentiment'].mean()\n"
   ]
  },
  {
   "cell_type": "code",
   "execution_count": 202,
   "id": "1bb75b16",
   "metadata": {},
   "outputs": [],
   "source": [
    "# merge sentiment, add other indicators\n",
    "\n",
    "price_dfs = {}\n",
    "for ticker in tickers:\n",
    "    price_dfs[ticker] = pd.read_csv(f'data/{ticker}.csv').set_index('Date')\n",
    "    price_dfs[ticker].index = pd.to_datetime(price_dfs[ticker].index,\n",
    "                                             format=\"%Y-%m-%d\"\n",
    "                                             )\n",
    "    price_dfs[ticker].sort_index(ascending=True)\n",
    "    price_dfs[ticker]['news_sentiment'] = daily_sentiment[ticker]\n",
    "    price_dfs[ticker]['return'] = price_dfs[ticker]['Close'].diff()\n",
    "    price_dfs[ticker]['fwd_return'] = price_dfs[ticker]['Close'].diff().shift(-1)\n",
    "\n",
    "    # EMA\n",
    "    price_dfs[ticker]['ema'] = ta.trend.ema_indicator(\n",
    "        price_dfs[ticker]['Close'], window=20)\n",
    "    \n",
    "    # RSI\n",
    "    price_dfs[ticker]['rsi_14'] = ta.momentum.rsi(price_dfs[ticker]['Close'], window=14)\n",
    "\n",
    "    # PVT\n",
    "    price_dfs[ticker]['pvt'] = ta.volume.volume_price_trend(price_dfs[ticker]['Close'], price_dfs[ticker]['Volume'])\n",
    "\n",
    "    # MACD\n",
    "    price_dfs[ticker]['macd'] = ta.trend.macd(price_dfs[ticker]['Close'])\n",
    "    price_dfs[ticker]['macd_signal'] = ta.trend.macd_signal(price_dfs[ticker]['Close'])\n",
    "    price_dfs[ticker]['macd_diff'] = ta.trend.macd_diff(price_dfs[ticker]['Close'])\n",
    "\n",
    "    price_dfs[ticker]['sma_20'] = ta.trend.sma_indicator(price_dfs[ticker]['Close'], window=20)\n",
    "    price_dfs[ticker]['williams_r'] = ta.momentum.williams_r(price_dfs[ticker]['High'], price_dfs[ticker]['Low'], price_dfs[ticker]['Close'], lbp=14)\n",
    "    price_dfs[ticker]['obv'] = ta.volume.on_balance_volume(price_dfs[ticker]['Close'], price_dfs[ticker]['Volume'])\n",
    "    price_dfs[ticker]['atr'] = ta.volatility.average_true_range(price_dfs[ticker]['High'], price_dfs[ticker]['Low'], price_dfs[ticker]['Close'], window=14)"
   ]
  },
  {
   "cell_type": "code",
   "execution_count": 204,
   "id": "8d95ac75",
   "metadata": {},
   "outputs": [],
   "source": [
    "import pandas as pd\n",
    "import numpy as np\n",
    "from xgboost import XGBRegressor\n",
    "from sklearn.model_selection import train_test_split\n",
    "from sklearn.metrics import mean_squared_error, r2_score\n"
   ]
  },
  {
   "cell_type": "code",
   "execution_count": 209,
   "id": "7cecec45",
   "metadata": {},
   "outputs": [
    {
     "name": "stderr",
     "output_type": "stream",
     "text": [
      "/var/folders/tl/d5lq85h96f396hsw76f77lxc0000gn/T/ipykernel_34583/1107325774.py:18: SettingWithCopyWarning: \n",
      "A value is trying to be set on a copy of a slice from a DataFrame.\n",
      "Try using .loc[row_indexer,col_indexer] = value instead\n",
      "\n",
      "See the caveats in the documentation: https://pandas.pydata.org/pandas-docs/stable/user_guide/indexing.html#returning-a-view-versus-a-copy\n",
      "  X[\"Volume\"] = X[\"Volume\"] / 1e6\n",
      "/var/folders/tl/d5lq85h96f396hsw76f77lxc0000gn/T/ipykernel_34583/1107325774.py:19: SettingWithCopyWarning: \n",
      "A value is trying to be set on a copy of a slice from a DataFrame.\n",
      "Try using .loc[row_indexer,col_indexer] = value instead\n",
      "\n",
      "See the caveats in the documentation: https://pandas.pydata.org/pandas-docs/stable/user_guide/indexing.html#returning-a-view-versus-a-copy\n",
      "  X[\"pvt\"] = X[\"pvt\"] / 1e6\n"
     ]
    }
   ],
   "source": [
    "# If you already have the DataFrame loaded as `df` and cleaned:\n",
    "df = price_dfs['AAPL'].copy()\n",
    "\n",
    "# Drop rows with NaNs (from indicators or returns)\n",
    "df = df.dropna()\n",
    "\n",
    "# Define features and target\n",
    "features = [\n",
    "    \"Open\", \"High\", \"Low\", \"Close\", \"Volume\", \"news_sentiment\", \"return\",\n",
    "    \"ema\", \"rsi_14\", \"pvt\", \"macd\", \"macd_signal\", \"macd_diff\"\n",
    "]\n",
    "target = \"fwd_return\"\n",
    "\n",
    "X = df[features]\n",
    "y = df[target]\n",
    "\n",
    "# Optional: scale volume and pvt if needed (many orders of magnitude larger)\n",
    "X[\"Volume\"] = X[\"Volume\"] / 1e6\n",
    "X[\"pvt\"] = X[\"pvt\"] / 1e6\n",
    "\n",
    "# Use time-based split (e.g., last 20% as test)\n",
    "split_idx = int(len(df) * 0.8)\n",
    "X_train, X_test = X.iloc[:split_idx], X.iloc[split_idx:]\n",
    "y_train, y_test = y.iloc[:split_idx], y.iloc[split_idx:]\n"
   ]
  },
  {
   "cell_type": "code",
   "execution_count": 210,
   "id": "3b72c77a",
   "metadata": {},
   "outputs": [],
   "source": [
    "model = XGBRegressor(\n",
    "    n_estimators=200,\n",
    "    learning_rate=0.05,\n",
    "    max_depth=4,\n",
    "    random_state=42\n",
    ")\n",
    "\n",
    "model.fit(X_train, y_train)\n",
    "\n",
    "y_pred = model.predict(X_test)"
   ]
  },
  {
   "cell_type": "code",
   "execution_count": 211,
   "id": "e1dc366c",
   "metadata": {},
   "outputs": [
    {
     "data": {
      "text/plain": [
       "array([ 6.6049182e-01,  2.2158876e-01,  7.1578157e-01,  7.6225597e-01,\n",
       "        5.8112592e-01,  2.4590573e+00,  5.1995534e-01, -1.0435242e-01,\n",
       "        6.1390054e-01,  1.8669962e+00, -1.5154355e+00, -4.6582937e-01,\n",
       "        1.9057027e-01,  3.2402429e-01,  1.5315729e-01,  9.1165364e-01,\n",
       "       -9.8593369e-02,  2.1254475e-01,  4.0598592e-01,  6.7641157e-01,\n",
       "       -1.1565353e+00,  5.7785350e-01,  5.6576818e-01,  2.5070670e-01,\n",
       "        2.3274438e+00, -1.0262272e-01,  6.4755130e-01,  4.9240738e-01,\n",
       "        4.0125403e-01, -6.6743791e-01,  4.1415945e-01, -4.6165106e-01,\n",
       "        2.7586466e-01, -2.7625808e-01, -5.9576485e-02,  6.7158413e-01,\n",
       "        1.4886911e+00,  1.6562418e+00,  1.2059078e+00,  3.5240948e+00,\n",
       "        1.6342069e+00,  1.9375148e+00,  1.0285567e+00,  1.2806182e+00,\n",
       "        1.0943863e+00,  8.3391112e-01,  2.6221514e-01,  1.3098198e+00,\n",
       "        8.4363443e-01, -8.7077208e-02, -2.1639802e-03, -8.8602453e-01,\n",
       "       -8.8913018e-01, -4.2129552e-01, -7.6877469e-01, -8.7907451e-01,\n",
       "       -1.4163437e+00, -1.7581066e+00, -9.8389751e-01, -6.7446429e-01,\n",
       "        3.7547228e-01, -4.4105977e-02, -2.2660497e-01,  7.6714061e-02,\n",
       "       -2.2141674e-01, -9.8392344e-01, -1.0031848e+00, -6.0537004e-01,\n",
       "       -8.4034145e-01, -7.9439610e-01, -1.3448932e+00, -5.0310647e-01,\n",
       "       -1.1455321e+00, -1.8769008e+00, -1.8769008e+00, -1.4677345e+00,\n",
       "        3.9030811e-01, -7.8163469e-01, -2.6741359e-01, -4.6853408e-01,\n",
       "        2.8743890e-01,  5.8331925e-01, -3.5160723e-01, -2.9707804e-01,\n",
       "        4.5629457e-01, -1.4263982e-01, -1.5102401e-01,  6.8365976e-02,\n",
       "        2.0545007e-01, -1.7427886e-01, -2.8005002e-02, -2.6160414e+00,\n",
       "       -1.0491199e+00, -6.3477552e-01, -9.6540660e-01, -8.5914516e+00,\n",
       "       -9.9407399e-01, -4.3904228e+00,  1.9531459e-01, -1.4328927e+00,\n",
       "       -1.6093687e+00, -4.7796202e-01,  7.2917444e-01, -3.7158340e-02,\n",
       "       -5.8295250e-01,  1.1899851e-01, -1.6307102e-01, -2.7029672e-01,\n",
       "       -1.4378729e+00, -4.4120315e-01, -9.9984831e-01, -9.2995411e-01,\n",
       "       -9.1765869e-01, -3.6605498e-01,  1.1995274e-02, -2.6311963e+00,\n",
       "        4.3266502e-01, -3.8074644e+00, -2.6872413e+00, -1.8148714e+00,\n",
       "       -1.8471355e+00, -1.8743720e+00, -1.5777080e+00, -1.4632335e+00,\n",
       "       -6.4056635e-01, -2.0456502e+00, -3.1777403e+00, -2.1717684e+00,\n",
       "       -1.9695613e+00, -9.8212028e-01, -9.3210399e-01, -2.5257404e+00,\n",
       "       -1.8674093e+00, -3.1074517e+00, -2.6324546e+00, -2.6468699e+00,\n",
       "       -1.0741743e+00, -1.2628739e+00, -2.3432560e+00, -1.6826959e+00,\n",
       "       -4.1065302e+00, -3.4994955e+00, -7.4573894e+00, -3.3130536e+00,\n",
       "       -3.3045313e+00, -3.8552842e+00, -4.5309043e+00, -2.7605431e+00,\n",
       "       -2.4844382e+00, -1.7542700e+00,  2.0545506e-01, -4.1251063e+00,\n",
       "       -2.0655003e+00, -2.1972253e+00, -1.4347485e+00, -2.7833724e+00,\n",
       "       -2.4976873e+00, -1.1793376e+00, -1.1232406e+00, -2.5827732e+00,\n",
       "       -8.8534236e-01], dtype=float32)"
      ]
     },
     "execution_count": 211,
     "metadata": {},
     "output_type": "execute_result"
    }
   ],
   "source": [
    "y_pred"
   ]
  },
  {
   "cell_type": "code",
   "execution_count": 212,
   "id": "75d0bf9c",
   "metadata": {},
   "outputs": [
    {
     "data": {
      "text/plain": [
       "0.5590062111801242"
      ]
     },
     "execution_count": 212,
     "metadata": {},
     "output_type": "execute_result"
    }
   ],
   "source": [
    "results = pd.DataFrame(y_test)\n",
    "results['pred'] = y_pred\n",
    "\n",
    "results['actual_dir'] = results['fwd_return'].apply(np.sign)\n",
    "results['pred_dir'] = results['pred'].apply(np.sign)\n",
    "\n",
    "len(results[results.actual_dir==results.pred_dir])/len(results)"
   ]
  }
 ],
 "metadata": {
  "kernelspec": {
   "display_name": "Python 3",
   "language": "python",
   "name": "python3"
  },
  "language_info": {
   "codemirror_mode": {
    "name": "ipython",
    "version": 3
   },
   "file_extension": ".py",
   "mimetype": "text/x-python",
   "name": "python",
   "nbconvert_exporter": "python",
   "pygments_lexer": "ipython3",
   "version": "3.11.10"
  }
 },
 "nbformat": 4,
 "nbformat_minor": 5
}
